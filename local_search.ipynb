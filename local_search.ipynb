{
 "cells": [
  {
   "cell_type": "markdown",
   "id": "0807d65d",
   "metadata": {},
   "source": [
    "# Local Search"
   ]
  },
  {
   "cell_type": "code",
   "execution_count": 1,
   "id": "0a21df22",
   "metadata": {},
   "outputs": [],
   "source": [
    "from typing import List, Tuple, Dict, Any, Callable\n",
    "import random\n",
    "import math\n",
    "from functools import cached_property"
   ]
  },
  {
   "cell_type": "code",
   "execution_count": 2,
   "id": "522ae83b",
   "metadata": {},
   "outputs": [],
   "source": [
    "class LocalState:\n",
    "    def __init__(self):\n",
    "        pass\n",
    "\n",
    "    @cached_property\n",
    "    # @cached_property makes this property computed only once and cached for future access\n",
    "    def objective(self) -> int | float:\n",
    "        raise NotImplementedError(\"Subclasses should implement this method\")\n",
    "    \n",
    "    def neighbors(self) -> List['LocalState']:\n",
    "        raise NotImplementedError(\"Subclasses should implement this method\")\n",
    "\n",
    "    def __repr__(self) -> str:\n",
    "        return \"LocalState\"\n",
    "\n",
    "    def __hash__(self) -> int:\n",
    "        return hash(self.__repr__())"
   ]
  },
  {
   "cell_type": "markdown",
   "id": "d0a28eeb",
   "metadata": {},
   "source": [
    "## 8-Queen Problem: Complete-State Formulation"
   ]
  },
  {
   "cell_type": "code",
   "execution_count": 3,
   "id": "8c18249e",
   "metadata": {},
   "outputs": [],
   "source": [
    "class EightQueenLocalState(LocalState):\n",
    "    def __init__(self, queens=None):\n",
    "        if queens is None:\n",
    "            self.queens = [i for i in range(1, 9)]\n",
    "            random.shuffle(self.queens)\n",
    "        else:\n",
    "            self.queens = queens\n",
    "        self.cached_obj_value = None\n",
    "\n",
    "    def __eq__(self, other: 'EightQueenLocalState') -> bool:\n",
    "        return self.queens == other.queens\n",
    "\n",
    "    def __repr__(self):\n",
    "        board = [['.' for _ in range(8)] for _ in range(8)]\n",
    "        for col, row in enumerate(self.queens):\n",
    "            board[row-1][col] = 'Q'\n",
    "        return '\\n'.join([' '.join(row) for row in board])\n",
    "    \n",
    "    def __hash__(self):\n",
    "        return hash(tuple(self.queens))\n",
    "    \n",
    "    @cached_property\n",
    "    # count the number of pairs of queens that attack each other\n",
    "    def objective(self) -> int:\n",
    "        attacks = 0\n",
    "        for col1 in range(8):\n",
    "            for col2 in range(col1 + 1, 8):\n",
    "                row1, row2 = self.queens[col1], self.queens[col2]\n",
    "                if row1 == row2 or abs(col1 - col2) == abs(row1 - row2):\n",
    "                    attacks += 1\n",
    "        return attacks\n",
    "\n",
    "    # generate all possible neighbor states by moving each queen to a different row\n",
    "    def neighbors(self) -> List['EightQueenLocalState']:\n",
    "        neighbors = []\n",
    "        for col in range(8):\n",
    "            for row in range(1, 9):\n",
    "                if row != self.queens[col]:\n",
    "                    new_queens = self.queens[:]\n",
    "                    new_queens[col] = row\n",
    "                    neighbors.append(EightQueenLocalState(new_queens))\n",
    "        return neighbors"
   ]
  },
  {
   "cell_type": "markdown",
   "id": "1a5cb7b9",
   "metadata": {},
   "source": [
    "## Hill-Climbing Search"
   ]
  },
  {
   "cell_type": "code",
   "execution_count": 4,
   "id": "8bfab5ca",
   "metadata": {},
   "outputs": [],
   "source": [
    "def hill_climbing(initial_state: LocalState) -> LocalState:\n",
    "    current_state = initial_state\n",
    "    while True:\n",
    "        neighbors = current_state.neighbors()\n",
    "        if not neighbors:\n",
    "            return current_state\n",
    "        \n",
    "        next_state = min(neighbors, key=lambda state: state.objective)\n",
    "        if next_state.objective >= current_state.objective:\n",
    "            return current_state\n",
    "        \n",
    "        current_state = next_state"
   ]
  },
  {
   "cell_type": "code",
   "execution_count": 5,
   "id": "fa1e37b6",
   "metadata": {},
   "outputs": [
    {
     "name": "stdout",
     "output_type": "stream",
     "text": [
      "Initial State:\n",
      "Q . . . . . . .\n",
      ". Q . . . . . .\n",
      ". . Q . . . . .\n",
      ". . . Q . . . .\n",
      ". . . . Q . . .\n",
      ". . . . . Q . .\n",
      ". . . . . . Q .\n",
      ". . . . . . . Q\n",
      "Solution State:\n",
      ". Q Q . . . . .\n",
      ". . . . . . . .\n",
      ". . . . . Q . .\n",
      ". . . . . . . Q\n",
      "Q . . . . . . .\n",
      ". . . Q . . . .\n",
      ". . . . . . Q .\n",
      ". . . . Q . . .\n",
      "Objective Value: 1\n"
     ]
    }
   ],
   "source": [
    "initial_state = EightQueenLocalState([1, 2, 3, 4, 5, 6, 7, 8])\n",
    "print(\"Initial State:\")\n",
    "print(initial_state)\n",
    "solution = hill_climbing(initial_state)\n",
    "print(\"Solution State:\")\n",
    "print(solution)\n",
    "print(\"Objective Value:\", solution.objective)"
   ]
  },
  {
   "cell_type": "markdown",
   "id": "2195dedb",
   "metadata": {},
   "source": [
    "## Random-Restart Hill Climbing Search"
   ]
  },
  {
   "cell_type": "code",
   "execution_count": 6,
   "id": "b6d0eaaa",
   "metadata": {},
   "outputs": [],
   "source": [
    "def random_restart_hill_climbing(max_restarts: int = 10) -> LocalState:\n",
    "    best_solution = None\n",
    "    for _ in range(max_restarts):\n",
    "        initial_state = EightQueenLocalState()\n",
    "\n",
    "        current_solution = hill_climbing(initial_state)\n",
    "        \n",
    "        if best_solution is None or current_solution.objective < best_solution.objective:\n",
    "            best_solution = current_solution\n",
    "            \n",
    "    return best_solution"
   ]
  },
  {
   "cell_type": "code",
   "execution_count": 7,
   "id": "57d794af",
   "metadata": {},
   "outputs": [
    {
     "name": "stdout",
     "output_type": "stream",
     "text": [
      "Solution State:\n",
      ". . . . Q . . .\n",
      ". . Q . . . . .\n",
      ". . . . . . . Q\n",
      ". . . Q . . . .\n",
      ". . . . . . Q .\n",
      "Q . . . . . . .\n",
      ". . . . . Q . .\n",
      ". Q . . . . . .\n",
      "Objective Value: 0\n"
     ]
    }
   ],
   "source": [
    "solution = random_restart_hill_climbing(max_restarts=10)\n",
    "print(\"Solution State:\")\n",
    "print(solution)\n",
    "print(\"Objective Value:\", solution.objective)"
   ]
  },
  {
   "cell_type": "markdown",
   "id": "06e9ffca",
   "metadata": {},
   "source": [
    "## Simulated Annealing"
   ]
  },
  {
   "cell_type": "code",
   "execution_count": 8,
   "id": "50d91d7c",
   "metadata": {},
   "outputs": [],
   "source": [
    "def simulated_annealing(initial_state: LocalState, max_iterations: int = 1000, initial_temp: float = 100.0, cooling_rate: float = 0.99) -> LocalState:\n",
    "    current_state = initial_state\n",
    "    temperature = initial_temp\n",
    "\n",
    "    for _ in range(max_iterations):\n",
    "        if temperature <= 0:\n",
    "            break\n",
    "        \n",
    "        neighbors = current_state.neighbors()\n",
    "        if not neighbors:\n",
    "            return current_state\n",
    "        \n",
    "        next_state = random.choice(neighbors)\n",
    "        delta = next_state.objective - current_state.objective\n",
    "        \n",
    "        if delta < 0 or random.random() < (math.exp(-delta / temperature)):\n",
    "            current_state = next_state\n",
    "        \n",
    "        temperature *= cooling_rate\n",
    "    \n",
    "    return current_state"
   ]
  },
  {
   "cell_type": "code",
   "execution_count": 15,
   "id": "3b241356",
   "metadata": {},
   "outputs": [
    {
     "name": "stdout",
     "output_type": "stream",
     "text": [
      "Initial State:\n",
      "Q . . . . . . .\n",
      ". Q . . . . . .\n",
      ". . Q . . . . .\n",
      ". . . Q . . . .\n",
      ". . . . Q . . .\n",
      ". . . . . Q . .\n",
      ". . . . . . Q .\n",
      ". . . . . . . Q\n",
      "Solution State:\n",
      ". . . . . . Q .\n",
      "Q . . . . . . .\n",
      ". . Q . . . . .\n",
      ". . . . . . . Q\n",
      ". . . . . Q . .\n",
      ". . . Q . . . .\n",
      ". Q . . . . . .\n",
      ". . . . Q . . .\n",
      "Objective Value: 0\n"
     ]
    }
   ],
   "source": [
    "initial_state = EightQueenLocalState([1, 2, 3, 4, 5, 6, 7, 8])\n",
    "print(\"Initial State:\")\n",
    "print(initial_state)\n",
    "solution = simulated_annealing(initial_state)\n",
    "print(\"Solution State:\")\n",
    "print(solution)\n",
    "print(\"Objective Value:\", solution.objective)"
   ]
  },
  {
   "cell_type": "markdown",
   "id": "b3baf502",
   "metadata": {},
   "source": [
    "## Genetic Algorithm"
   ]
  },
  {
   "cell_type": "code",
   "execution_count": 16,
   "id": "ca61431a",
   "metadata": {},
   "outputs": [],
   "source": [
    "def genetic_algorithm_8queens(population_size: int = 100, generations: int = 1000, mutation_rate: float = 0.01) -> LocalState:\n",
    "    def crossover(parent1: EightQueenLocalState, parent2: EightQueenLocalState) -> EightQueenLocalState:\n",
    "        point = random.randint(0, 7)\n",
    "        new_queens = parent1.queens[:point] + parent2.queens[point:]\n",
    "        return EightQueenLocalState(new_queens)\n",
    "\n",
    "    def mutate(individual: EightQueenLocalState) -> EightQueenLocalState:\n",
    "        if random.random() < mutation_rate:\n",
    "            col = random.randint(0, 7)\n",
    "            row = random.randint(1, 8)\n",
    "            new_queens = individual.queens[:]\n",
    "            new_queens[col] = row\n",
    "            return EightQueenLocalState(new_queens)\n",
    "        return individual\n",
    "    \n",
    "    def roulette_wheel_selection(population: List[EightQueenLocalState]) -> EightQueenLocalState:\n",
    "        epsilon = 1e-9\n",
    "        # selection_weights = [1 / (ind.objective + epsilon) for ind in population]\n",
    "        selection_weights = [28 - ind.objective for ind in population]\n",
    "        return random.choices(population, weights=selection_weights, k=2)\n",
    "\n",
    "    population = [EightQueenLocalState() for _ in range(population_size)]\n",
    "    best_solution = min(population, key=lambda ind: ind.objective)\n",
    "\n",
    "    for _ in range(generations):\n",
    "        population.sort(key=lambda ind: ind.objective)\n",
    "        next_generation = population[:population_size // 2]\n",
    "\n",
    "        while len(next_generation) < population_size:\n",
    "            parent1, parent2 = roulette_wheel_selection(population)\n",
    "            child = crossover(parent1, parent2)\n",
    "            child = mutate(child)\n",
    "            next_generation.append(child)\n",
    "\n",
    "        population = next_generation\n",
    "\n",
    "        best_in_generation = min(population, key=lambda ind: ind.objective)\n",
    "        if best_in_generation.objective < best_solution.objective:\n",
    "            best_solution = best_in_generation\n",
    "\n",
    "    return best_solution"
   ]
  },
  {
   "cell_type": "code",
   "execution_count": 24,
   "id": "7e216218",
   "metadata": {},
   "outputs": [
    {
     "name": "stdout",
     "output_type": "stream",
     "text": [
      "Solution State:\n",
      ". . Q . . . . .\n",
      ". . . . Q . . .\n",
      ". . . . . . Q .\n",
      "Q . . . . . . .\n",
      ". . . Q . . . .\n",
      ". Q . . . . . .\n",
      ". . . . . . . Q\n",
      ". . . . . Q . .\n",
      "Objective Value: 0\n"
     ]
    }
   ],
   "source": [
    "solution = genetic_algorithm_8queens(population_size=100, generations=500, mutation_rate=0.01)\n",
    "print(\"Solution State:\")\n",
    "print(solution)\n",
    "print(\"Objective Value:\", solution.objective)"
   ]
  }
 ],
 "metadata": {
  "kernelspec": {
   "display_name": "base",
   "language": "python",
   "name": "python3"
  },
  "language_info": {
   "codemirror_mode": {
    "name": "ipython",
    "version": 3
   },
   "file_extension": ".py",
   "mimetype": "text/x-python",
   "name": "python",
   "nbconvert_exporter": "python",
   "pygments_lexer": "ipython3",
   "version": "3.10.14"
  }
 },
 "nbformat": 4,
 "nbformat_minor": 5
}
